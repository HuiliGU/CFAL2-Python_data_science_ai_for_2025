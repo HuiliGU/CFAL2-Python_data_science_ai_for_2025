{
 "cells": [
  {
   "cell_type": "markdown",
   "id": "f9cf222b-b605-4a70-b130-9529e82957d3",
   "metadata": {},
   "source": [
    "## Lesson 1.1:Python variables, data types, math operations, print and input functions**"
   ]
  },
  {
   "cell_type": "markdown",
   "id": "f3e1912a-c3d5-4ea6-b60e-e3780e631d36",
   "metadata": {},
   "source": [
    "**Let's develop a simple currency converter application in Python that receives:**\n",
    "\n",
    "    - (1) Name of the user \n",
    "    - (2) Amount the user wants to exchange in U.S. dollars\n",
    "    \n",
    "**The application performs the following tasks:**\n",
    "\n",
    "    - (1) Converts the amount into equivalent Canadian (CAD) dollars (assume 1.36 exchange rate) \n",
    "    - (2) Displays the answer to the screen"
   ]
  },
  {
   "cell_type": "code",
   "execution_count": 1,
   "id": "606cd31f-433e-48cc-ab22-e2af0bba8341",
   "metadata": {},
   "outputs": [
    {
     "name": "stdin",
     "output_type": "stream",
     "text": [
      "Welcome to XYZ currency exchange, what's your name?  huili\n"
     ]
    },
    {
     "data": {
      "text/plain": [
       "'huili'"
      ]
     },
     "execution_count": 1,
     "metadata": {},
     "output_type": "execute_result"
    }
   ],
   "source": [
    "# The input() Function is used to get data from the user\n",
    "name = input(\"Welcome to XYZ currency exchange, what's your name? \")\n",
    "name"
   ]
  },
  {
   "cell_type": "code",
   "execution_count": null,
   "id": "1503bcf3-7014-4961-8700-eebf63ec7efd",
   "metadata": {},
   "outputs": [],
   "source": [
    "# Let's obtain the amount of money that the user would like to exchange in USD\n",
    "amount_USD = input(\"Enter the amount you would like to exchange in U.S. dollars: \")\n",
    "amount_USD"
   ]
  },
  {
   "cell_type": "code",
   "execution_count": null,
   "id": "0bfc5143-616a-46e9-af18-2fc1cee68c83",
   "metadata": {},
   "outputs": [],
   "source": [
    "# Let's check out the data type of \"name\" and \"amount_USD\"\n",
    "# Note that by default, the user's input value will be stored in a form of String  \n",
    "type(name), type(amount_USD)"
   ]
  },
  {
   "cell_type": "code",
   "execution_count": null,
   "id": "6d6254ae-8bef-41cd-b771-1e2b3f1bfc76",
   "metadata": {},
   "outputs": [],
   "source": [
    "# Let's convert the amount_USD from String (str) data type to Float data type\n",
    "# We do this conversion because we will perform math operation on this Float value later on \n",
    "# You can not perform math operations on Strings (str) data type\n",
    "amount_USD = float(amount_USD)"
   ]
  },
  {
   "cell_type": "code",
   "execution_count": null,
   "id": "d388ccac-4927-489a-b087-55bb680a1ad1",
   "metadata": {},
   "outputs": [],
   "source": [
    "# Let's perform math operations in Python \n",
    "# Let's define the currency conversion rate\n",
    "USD_CAD = 1.36\n",
    "\n",
    "# Convert from USD to CAD\n",
    "amount_CAD = round(amount_USD * USD_CAD, 2)\n",
    "amount_CAD"
   ]
  },
  {
   "cell_type": "code",
   "execution_count": null,
   "id": "538a7e81-ce10-41bb-b270-d476cc915f6b",
   "metadata": {},
   "outputs": [],
   "source": [
    "# Let's print the results to the screen using the print() Function\n",
    "print(\"Welcome {}, the equivalent of USD ${} is CAD ${}\".format(name, amount_USD, amount_CAD))"
   ]
  },
  {
   "cell_type": "markdown",
   "id": "a1c3be5a-3cca-4e6b-8cd8-fdb6b3e0a9e6",
   "metadata": {},
   "source": [
    "**PRACTICE OPPORTUNITY:** \n",
    "- **A New Zealand traveller returned back from  a trip to Singapore with SGD 13,700 (Singapore dollars). A foreign exchange dealer provided the traveller with the following quotes:**\n",
    "\n",
    "<center>\n",
    "    \n",
    "| Ratio  |  Spot Rates\n",
    "|:-------|:----------\n",
    "USD/SGD  | 1.34\n",
    "NZD/USD  | 0.62\n",
    "    \n",
    "</center>\n",
    "    \n",
    "\n",
    "- **Write a Python code that takes in the name of the user and the SGD dollar amount they want to exchange. The application converts the amount into equivalent NZD and displays the answer to the screen.** \n",
    "\n",
    "- **Find a sample expected output below:**\n",
    "\n",
    "  - Welcome to the foreign currency exchange office, please enter your name: Sarah George   \n",
    "  - Enter the amount of funds you want to exchange in SGD: 13700\n",
    "  - Welcome Sarah George to our office, the amount you want to exchange is SGD \\\\$13700 which will be converted to NZD \\\\$16490.12"
   ]
  },
  {
   "cell_type": "code",
   "execution_count": null,
   "id": "45457503-da04-4f15-8c91-9d3a324274cd",
   "metadata": {},
   "outputs": [],
   "source": [
    "name = input(\"Welcome to the foreign currency exchange office, please enter your name: \")\n",
    "name"
   ]
  },
  {
   "cell_type": "code",
   "execution_count": null,
   "id": "b87cf3af-3369-4b08-a76c-44605c33e0b5",
   "metadata": {},
   "outputs": [],
   "source": [
    "amount_SGD = input(\"Enter the amount of funds you want to exchange in SGD: \")\n",
    "amount_SGD"
   ]
  },
  {
   "cell_type": "code",
   "execution_count": null,
   "id": "9b9c8702-59f0-4c24-bcc1-6313424825cb",
   "metadata": {},
   "outputs": [],
   "source": [
    "amount_SGD = round(float(amount_SGD), 2)"
   ]
  },
  {
   "cell_type": "code",
   "execution_count": null,
   "id": "fde201df-7f9d-4a58-835c-878430f24ac5",
   "metadata": {},
   "outputs": [],
   "source": [
    "USD_SGD = 1.34\n",
    "NZD_USD = 0.62\n",
    "NZD_SGD = NZD_USD * USD_SGD\n",
    "amount_NZD = round(amount_SGD / NZD_SGD, 2) "
   ]
  },
  {
   "cell_type": "code",
   "execution_count": null,
   "id": "b2d1f0ae-ded2-4e22-8b84-86f2e7417562",
   "metadata": {},
   "outputs": [],
   "source": [
    "print(\"Welcome Sarah George to our office, the amount you want to exchange is SGD ${} which will be converted to NZD ${}\".format(amount_SGD, amount_NZD))"
   ]
  },
  {
   "cell_type": "code",
   "execution_count": null,
   "id": "622177a3-a9d7-468c-ba88-a63406ada702",
   "metadata": {},
   "outputs": [],
   "source": []
  }
 ],
 "metadata": {
  "kernelspec": {
   "display_name": "Python 3 (ipykernel)",
   "language": "python",
   "name": "python3"
  },
  "language_info": {
   "codemirror_mode": {
    "name": "ipython",
    "version": 3
   },
   "file_extension": ".py",
   "mimetype": "text/x-python",
   "name": "python",
   "nbconvert_exporter": "python",
   "pygments_lexer": "ipython3",
   "version": "3.13.5"
  }
 },
 "nbformat": 4,
 "nbformat_minor": 5
}
