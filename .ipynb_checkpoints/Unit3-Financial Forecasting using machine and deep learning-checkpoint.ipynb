{
 "cells": [
  {
   "cell_type": "markdown",
   "id": "9b06f185-37ef-4ee9-9c4d-270759a32fdc",
   "metadata": {},
   "source": [
    "# 👩🏻‍💻 Unit 3: Financial Forecasting Using Machine and Deep Learning\n",
    "- Lesson 3.1 – Import Datasets and Perform Basic Data Exploration\n",
    "- Lesson 3.2 – Perform Data Visualization\n",
    "- Lesson 3.3 – Perform One-Hot Encoding\n",
    "- Lesson 3.4 – Split the Data into Training and Testing\n",
    "- Lesson 3.5 – Train and Evaluate a Multiple Linear Regression Model Using Scikit-Learn\n",
    "- Lesson 3.6 – Train and Evaluate a Random Forest Algorithm\n",
    "- Lesson 3.7 – Understand the Theory and Intuition behind Artificial Neural Networks (ANNs) and Deep Learning\n",
    "- Lesson 3.8 – Train and Evaluate a Multi-Layer Perceptron Network\n",
    "- Lesson 3.9 – Train and Evaluate an XGBoost Algorithm\n",
    "- Lesson 3.10 – Perform Hyperparameters Optimization"
   ]
  },
  {
   "cell_type": "code",
   "execution_count": null,
   "id": "d76b698a-bd43-4876-89e4-3711598993bb",
   "metadata": {},
   "outputs": [],
   "source": []
  }
 ],
 "metadata": {
  "kernelspec": {
   "display_name": "Python 3 (ipykernel)",
   "language": "python",
   "name": "python3"
  },
  "language_info": {
   "codemirror_mode": {
    "name": "ipython",
    "version": 3
   },
   "file_extension": ".py",
   "mimetype": "text/x-python",
   "name": "python",
   "nbconvert_exporter": "python",
   "pygments_lexer": "ipython3",
   "version": "3.13.5"
  }
 },
 "nbformat": 4,
 "nbformat_minor": 5
}
