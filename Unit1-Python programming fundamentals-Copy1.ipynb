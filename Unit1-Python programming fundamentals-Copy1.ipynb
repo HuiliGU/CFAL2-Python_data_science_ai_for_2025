{
 "cells": [
  {
   "cell_type": "markdown",
   "id": "f9cf222b-b605-4a70-b130-9529e82957d3",
   "metadata": {},
   "source": [
    "# 👩🏻‍💻 Unit 1: Python Programming Fundamentals Review\n",
    "## 📑 Summary\n",
    "- Lesson 1.1: Python variables, data types, math operations, print and input functions"
   ]
  },
  {
   "cell_type": "markdown",
   "id": "82d8c41c-bb1e-4915-8983-61cf71621cca",
   "metadata": {},
   "source": [
    "---"
   ]
  },
  {
   "cell_type": "markdown",
   "id": "e4c5de0d-6fc3-4209-bf90-36330218af8f",
   "metadata": {},
   "source": [
    "## 🎬 Lesson 1.1:Python variables, data types, math operations, print and input functions"
   ]
  },
  {
   "cell_type": "markdown",
   "id": "f3e1912a-c3d5-4ea6-b60e-e3780e631d36",
   "metadata": {},
   "source": [
    "**Let's develop a simple currency converter application in Python that receives:**\n",
    "\n",
    "    - (1) Name of the user \n",
    "    - (2) Amount the user wants to exchange in U.S. dollars\n",
    "    \n",
    "**The application performs the following tasks:**\n",
    "\n",
    "    - (1) Converts the amount into equivalent Canadian (CAD) dollars (assume 1.36 exchange rate) \n",
    "    - (2) Displays the answer to the screen"
   ]
  },
  {
   "cell_type": "code",
   "execution_count": 1,
   "id": "606cd31f-433e-48cc-ab22-e2af0bba8341",
   "metadata": {},
   "outputs": [
    {
     "name": "stdin",
     "output_type": "stream",
     "text": [
      "Welcome to XYZ currency exchange, what's your name?  huili\n"
     ]
    },
    {
     "data": {
      "text/plain": [
       "'huili'"
      ]
     },
     "execution_count": 1,
     "metadata": {},
     "output_type": "execute_result"
    }
   ],
   "source": [
    "name = input(\"Welcome to XYZ currency exchange, what's your name? \")\n",
    "name"
   ]
  },
  {
   "cell_type": "code",
   "execution_count": 2,
   "id": "1503bcf3-7014-4961-8700-eebf63ec7efd",
   "metadata": {},
   "outputs": [
    {
     "name": "stdin",
     "output_type": "stream",
     "text": [
      "Enter the amount you would like to exchange in U.S. dollars:  10000\n"
     ]
    },
    {
     "data": {
      "text/plain": [
       "'10000'"
      ]
     },
     "execution_count": 2,
     "metadata": {},
     "output_type": "execute_result"
    }
   ],
   "source": [
    "amount_USD = input(\"Enter the amount you would like to exchange in U.S. dollars: \")\n",
    "amount_USD"
   ]
  },
  {
   "cell_type": "code",
   "execution_count": 31,
   "id": "0bfc5143-616a-46e9-af18-2fc1cee68c83",
   "metadata": {},
   "outputs": [
    {
     "data": {
      "text/plain": [
       "(str, float)"
      ]
     },
     "execution_count": 31,
     "metadata": {},
     "output_type": "execute_result"
    }
   ],
   "source": [
    "# By default, the user's input value will be stored in a form of String  \n",
    "type(name), type(amount_USD)"
   ]
  },
  {
   "cell_type": "code",
   "execution_count": 32,
   "id": "6d6254ae-8bef-41cd-b771-1e2b3f1bfc76",
   "metadata": {},
   "outputs": [],
   "source": [
    "# Convert the amount_USD from String (str) data type to Float data type, so as to perform math operation\n",
    "amount_USD = float(amount_USD)"
   ]
  },
  {
   "cell_type": "code",
   "execution_count": 33,
   "id": "d388ccac-4927-489a-b087-55bb680a1ad1",
   "metadata": {},
   "outputs": [
    {
     "data": {
      "text/plain": [
       "13600.0"
      ]
     },
     "execution_count": 33,
     "metadata": {},
     "output_type": "execute_result"
    }
   ],
   "source": [
    "USD_CAD = 1.36\n",
    "\n",
    "# Convert from USD to CAD\n",
    "amount_CAD = round(amount_USD * USD_CAD, 2)\n",
    "amount_CAD"
   ]
  },
  {
   "cell_type": "code",
   "execution_count": 35,
   "id": "538a7e81-ce10-41bb-b270-d476cc915f6b",
   "metadata": {},
   "outputs": [
    {
     "name": "stdout",
     "output_type": "stream",
     "text": [
      "Welcome Sarah George, the equivalent of USD $10000.0 is CAD $13600.0\n"
     ]
    }
   ],
   "source": [
    "# Print the results to the screen using the print() Function\n",
    "print(\"Welcome {}, the equivalent of USD ${} is CAD ${}\".format(name, amount_USD, amount_CAD))"
   ]
  },
  {
   "cell_type": "markdown",
   "id": "a1c3be5a-3cca-4e6b-8cd8-fdb6b3e0a9e6",
   "metadata": {},
   "source": [
    "❇️ **PRACTICE OPPORTUNITY:** \n",
    "- **A New Zealand traveller returned back from  a trip to Singapore with SGD 13,700 (Singapore dollars). A foreign exchange dealer provided the traveller with the following quotes:**\n",
    "\n",
    "<center>\n",
    "    \n",
    "| Ratio  |  Spot Rates\n",
    "|:-------|:----------\n",
    "USD/SGD  | 1.34\n",
    "NZD/USD  | 0.62\n",
    "    \n",
    "</center>\n",
    "    \n",
    "\n",
    "- **Write a Python code that takes in the name of the user and the SGD dollar amount they want to exchange. The application converts the amount into equivalent NZD and displays the answer to the screen.** \n",
    "\n",
    "- **Find a sample expected output below:**\n",
    "\n",
    "  - Welcome to the foreign currency exchange office, please enter your name: Sarah George   \n",
    "  - Enter the amount of funds you want to exchange in SGD: 13700\n",
    "  - Welcome Sarah George to our office, the amount you want to exchange is SGD \\\\$13700 which will be converted to NZD \\\\$16490.12"
   ]
  },
  {
   "cell_type": "code",
   "execution_count": 7,
   "id": "45457503-da04-4f15-8c91-9d3a324274cd",
   "metadata": {},
   "outputs": [
    {
     "name": "stdin",
     "output_type": "stream",
     "text": [
      "Welcome to the foreign currency exchange office, please enter your name:  Sarah George\n"
     ]
    },
    {
     "data": {
      "text/plain": [
       "'Sarah George'"
      ]
     },
     "execution_count": 7,
     "metadata": {},
     "output_type": "execute_result"
    }
   ],
   "source": [
    "name = input(\"Welcome to the foreign currency exchange office, please enter your name: \")\n",
    "name"
   ]
  },
  {
   "cell_type": "code",
   "execution_count": 8,
   "id": "b87cf3af-3369-4b08-a76c-44605c33e0b5",
   "metadata": {},
   "outputs": [
    {
     "name": "stdin",
     "output_type": "stream",
     "text": [
      "Enter the amount of funds you want to exchange in SGD:  13700\n"
     ]
    },
    {
     "data": {
      "text/plain": [
       "'13700'"
      ]
     },
     "execution_count": 8,
     "metadata": {},
     "output_type": "execute_result"
    }
   ],
   "source": [
    "amount_SGD = input(\"Enter the amount of funds you want to exchange in SGD: \")\n",
    "amount_SGD"
   ]
  },
  {
   "cell_type": "code",
   "execution_count": 9,
   "id": "9b9c8702-59f0-4c24-bcc1-6313424825cb",
   "metadata": {},
   "outputs": [],
   "source": [
    "amount_SGD = round(float(amount_SGD), 2)"
   ]
  },
  {
   "cell_type": "code",
   "execution_count": 10,
   "id": "fde201df-7f9d-4a58-835c-878430f24ac5",
   "metadata": {},
   "outputs": [],
   "source": [
    "USD_SGD = 1.34\n",
    "NZD_USD = 0.62\n",
    "NZD_SGD = NZD_USD * USD_SGD\n",
    "amount_NZD = round(amount_SGD / NZD_SGD, 2) "
   ]
  },
  {
   "cell_type": "code",
   "execution_count": 11,
   "id": "b2d1f0ae-ded2-4e22-8b84-86f2e7417562",
   "metadata": {},
   "outputs": [
    {
     "name": "stdout",
     "output_type": "stream",
     "text": [
      "Welcome Sarah George to our office, the amount you want to exchange is SGD $13700.0 which will be converted to NZD $16490.13\n"
     ]
    }
   ],
   "source": [
    "print(\"Welcome Sarah George to our office, the amount you want to exchange is SGD ${} which will be converted to NZD ${}\".format(amount_SGD, amount_NZD))"
   ]
  },
  {
   "cell_type": "markdown",
   "id": "c8872d1c-7b14-4587-a733-1107e0e8901d",
   "metadata": {},
   "source": [
    "---"
   ]
  },
  {
   "cell_type": "markdown",
   "id": "ab4f63e7-0a17-4fb8-82a2-124ecd3caf78",
   "metadata": {},
   "source": [
    "## 🎬 Lesson 1.2: Python Lists, Loops, and List Comprehension"
   ]
  },
  {
   "cell_type": "code",
   "execution_count": 14,
   "id": "deb3a4b8-c0f3-4455-897e-7e3c3c3c77b5",
   "metadata": {},
   "outputs": [
    {
     "name": "stdout",
     "output_type": "stream",
     "text": [
      "input_list[0] -> 1\n",
      "input_list[1] -> 2\n",
      "input_list[2] -> 3\n",
      "input_list[3] -> 4\n",
      "input_list[4] -> 5\n"
     ]
    }
   ],
   "source": [
    "# Python Lists:\n",
    "input_list = [1,2,3,4,5]\n",
    "for i in range(len(input_list)):\n",
    "    print(\"input_list[{}] -> {}\".format(i, input_list[i]))"
   ]
  },
  {
   "cell_type": "code",
   "execution_count": 21,
   "id": "ee8c9c41-a698-47b0-a9a7-ce793b5f0fdc",
   "metadata": {},
   "outputs": [
    {
     "name": "stdout",
     "output_type": "stream",
     "text": [
      "output list using for loop : [1, 4, 9, 16, 25] \n",
      "output list using list comprehension : [1, 4, 9, 16, 25] \n"
     ]
    }
   ],
   "source": [
    "# For loop:\n",
    "output_list = []\n",
    "for x in input_list:\n",
    "    output_list.append(x**2)\n",
    "\n",
    "# List comprehension elegantly perform the same task using one line of code!  \n",
    "output_list_2 = [x**2 for x in input_list]\n",
    "\n",
    "print(\"output list using for loop : {} \\noutput list using list comprehension : {} \".format(output_list, output_list_2))"
   ]
  },
  {
   "cell_type": "markdown",
   "id": "87a8629f-d775-463c-ad62-5640e5b52452",
   "metadata": {},
   "source": [
    "**❇️ PRACTICE OPPORTUNITY SOLUTION:**\n",
    "- **Assume that we have 3 clients who invested the following amounts in stocks earning 8% annually:** \n",
    "     \n",
    "     - **client_investments = [\\\\$400,000  \\\\$45,000   \\\\$60,000]**\n",
    "     \n",
    "     \n",
    "- **Complete the following tasks:**\n",
    "    - **1. Write a For loop that iterates over each element in the \"client_investments\" List, calculates the annual returns and places the results in another list named \"client_returns\"** \n",
    "    - **2. Repeat the same operation using List Comprehension**\n",
    "    - **3. Compare the results from step 1 and 2 and perform a sanity check**"
   ]
  },
  {
   "cell_type": "code",
   "execution_count": 28,
   "id": "fa5d0592-a375-4d80-a8b1-9e0e4c47bbaf",
   "metadata": {},
   "outputs": [
    {
     "name": "stdout",
     "output_type": "stream",
     "text": [
      "client returns using for loop : [32000.0, 3600.0, 4800.0] \n",
      "client returns using list comprehension : [32000.0, 3600.0, 4800.0] \n"
     ]
    }
   ],
   "source": [
    "client_investments = [400000, 45000, 60000]\n",
    "returns = 0.08\n",
    "\n",
    "# For loop:\n",
    "client_returns = []\n",
    "for inv in client_investments:\n",
    "    client_returns.append(inv*returns)\n",
    "\n",
    "# List comprehension:\n",
    "client_returns_2 = [inv*returns for inv in client_investments]\n",
    "\n",
    "assert client_returns == client_returns_2\n",
    "print(\"client returns using for loop : {} \\nclient returns using list comprehension : {} \".format(client_returns, client_returns_2))"
   ]
  },
  {
   "cell_type": "markdown",
   "id": "306d1fb2-8a28-4f56-9694-f45c05853dcf",
   "metadata": {},
   "source": [
    "---"
   ]
  },
  {
   "cell_type": "code",
   "execution_count": null,
   "id": "e1a5e8a0-8203-4c3c-9000-dc586e734ebd",
   "metadata": {},
   "outputs": [],
   "source": []
  }
 ],
 "metadata": {
  "kernelspec": {
   "display_name": "Python 3 (ipykernel)",
   "language": "python",
   "name": "python3"
  },
  "language_info": {
   "codemirror_mode": {
    "name": "ipython",
    "version": 3
   },
   "file_extension": ".py",
   "mimetype": "text/x-python",
   "name": "python",
   "nbconvert_exporter": "python",
   "pygments_lexer": "ipython3",
   "version": "3.13.5"
  }
 },
 "nbformat": 4,
 "nbformat_minor": 5
}
